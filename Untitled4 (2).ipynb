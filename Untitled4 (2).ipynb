{
  "nbformat": 4,
  "nbformat_minor": 0,
  "metadata": {
    "colab": {
      "provenance": []
    },
    "kernelspec": {
      "name": "python3",
      "display_name": "Python 3"
    },
    "language_info": {
      "name": "python"
    }
  },
  "cells": [
    {
      "cell_type": "code",
      "execution_count": 1,
      "metadata": {
        "id": "BMO428q9M7y3"
      },
      "outputs": [],
      "source": [
        "import pandas as pd\n",
        "import numpy as np\n",
        "from sklearn.model_selection import train_test_split\n",
        "from sklearn.preprocessing import StandardScaler\n",
        "from sklearn.feature_selection import RFE\n",
        "from sklearn.linear_model import LogisticRegression\n",
        "from sklearn.metrics import accuracy_score, classification_report, confusion_matrix"
      ]
    },
    {
      "cell_type": "code",
      "source": [
        "import pandas as pd\n",
        "\n",
        "# Replace 'file_path.tsv' with the path to your TSV file\n",
        "file_path = '/content/luad_mskcc_2023_met_organotropism_clinical_data.csv'\n",
        "\n",
        "# Read TSV file into a DataFrame\n",
        "df = pd.read_csv(file_path, sep='\\t')\n",
        "\n",
        "# Now df contains your data from the TSV file"
      ],
      "metadata": {
        "id": "Dw2UWzdIU337"
      },
      "execution_count": 2,
      "outputs": []
    },
    {
      "cell_type": "code",
      "source": [
        "print(df.info())"
      ],
      "metadata": {
        "colab": {
          "base_uri": "https://localhost:8080/"
        },
        "id": "B1JtqUIjOSG6",
        "outputId": "ff0ee8b5-167e-49c4-b7ed-970cae8659e5"
      },
      "execution_count": 3,
      "outputs": [
        {
          "output_type": "stream",
          "name": "stdout",
          "text": [
            "<class 'pandas.core.frame.DataFrame'>\n",
            "RangeIndex: 2653 entries, 0 to 2652\n",
            "Data columns (total 94 columns):\n",
            " #   Column                                        Non-Null Count  Dtype  \n",
            "---  ------                                        --------------  -----  \n",
            " 0   Study ID                                      2653 non-null   object \n",
            " 1   Patient ID                                    2653 non-null   object \n",
            " 2   Sample ID                                     2653 non-null   object \n",
            " 3   Adjuvant                                      641 non-null    object \n",
            " 4   Adjuvant Chemotherapy                         880 non-null    object \n",
            " 5   Adjuvant Immunotherapy                        880 non-null    object \n",
            " 6   Adjuvant Targeted                             880 non-null    object \n",
            " 7   Adjuvant Therapy                              603 non-null    object \n",
            " 8   Adjuvant XRT                                  880 non-null    object \n",
            " 9   Adrenal Met Status (Months)                   38 non-null     float64\n",
            " 10  Adrenal Met Status                            882 non-null    object \n",
            " 11  Age at Surgery/Biopsy                         2422 non-null   float64\n",
            " 12  Bone Met Status (Months)                      117 non-null    float64\n",
            " 13  Bone Met Status                               882 non-null    object \n",
            " 14  Cancer Type                                   2653 non-null   object \n",
            " 15  Cancer Type Detailed                          2653 non-null   object \n",
            " 16  Cell Cycle                                    2422 non-null   object \n",
            " 17  Tobacco History                               882 non-null    object \n",
            " 18  CNS Met Status (Months)                       103 non-null    float64\n",
            " 19  CNS Met Status                                882 non-null    object \n",
            " 20  Clinical Stage                                861 non-null    object \n",
            " 21  Death                                         766 non-null    object \n",
            " 22  Ever Met to Site: Adrenal                     766 non-null    float64\n",
            " 23  Ever Met to Site: Bone                        766 non-null    float64\n",
            " 24  Ever Met to Site: CNS                         766 non-null    float64\n",
            " 25  Ever Met to Site: Liver                       766 non-null    float64\n",
            " 26  Ever Met to Site: Lymph Nodes                 766 non-null    float64\n",
            " 27  Ever Met to Site: Lung                        766 non-null    float64\n",
            " 28  Ever Met to Site: Pleura                      766 non-null    float64\n",
            " 29  FGA                                           2422 non-null   float64\n",
            " 30  Fraction Genome Altered                       2407 non-null   float64\n",
            " 31  At Least 2 Years Follow Up                    766 non-null    object \n",
            " 32  Gene Panel                                    2653 non-null   object \n",
            " 33  Group Number                                  2422 non-null   object \n",
            " 34  Had Surgery                                   880 non-null    object \n",
            " 35  HIPPO Pathway                                 2422 non-null   object \n",
            " 36  Samples used in Metastatic Lesion (ML) group  1552 non-null   object \n",
            " 37  Group Assignment for Primary Samples          766 non-null    object \n",
            " 38  Institute Source                              2357 non-null   object \n",
            " 39  Samples used in Matched Analysis (Group 5)    2422 non-null   object \n",
            " 40  Is WGD                                        2653 non-null   int64  \n",
            " 41  Liver Met Status (Months)                     42 non-null     float64\n",
            " 42  Liver Met Status                              882 non-null    object \n",
            " 43  LN Met Status (Months)                        143 non-null    float64\n",
            " 44  LN Met Status                                 882 non-null    object \n",
            " 45  Lung Met Status (Months)                      150 non-null    float64\n",
            " 46  Lung Met Status                               882 non-null    object \n",
            " 47  Metastatic Burden                             766 non-null    float64\n",
            " 48  Metastatic Site                               1666 non-null   object \n",
            " 49  Months from Matched Primary                   348 non-null    float64\n",
            " 50  MSI Score                                     2348 non-null   float64\n",
            " 51  MSI Type                                      2348 non-null   object \n",
            " 52  Mutation Count                                2626 non-null   float64\n",
            " 53  MYC Pathway                                   2422 non-null   object \n",
            " 54  Neoadjuvant                                   668 non-null    object \n",
            " 55  Neoadjuvant Chemotherapy                      668 non-null    object \n",
            " 56  Neoadjuvant Immunotherapy                     668 non-null    object \n",
            " 57  Neoadjuvant Targeted                          668 non-null    object \n",
            " 58  Neoadjuvant XRT                               668 non-null    object \n",
            " 59  NOTCH Pathway                                 2422 non-null   object \n",
            " 60  NRF2 Pathway                                  2422 non-null   object \n",
            " 61  Oncotree Code                                 2653 non-null   object \n",
            " 62  Overall Survival (Months)                     882 non-null    float64\n",
            " 63  Overall Survival Status                       882 non-null    object \n",
            " 64  PI3K Pathway                                  2422 non-null   object \n",
            " 65  Pleura Met Status (Months)                    73 non-null     float64\n",
            " 66  Pleura Met Status                             740 non-null    object \n",
            " 67  Ploidy                                        2653 non-null   float64\n",
            " 68  Post Sample Chemotherapy                      2422 non-null   object \n",
            " 69  Post Sample Immunotherapy                     2422 non-null   object \n",
            " 70  Post Sample Targeted                          2422 non-null   object \n",
            " 71  Post Sample Tx                                2422 non-null   object \n",
            " 72  Post Sample XRT                               2422 non-null   object \n",
            " 73  Predominant Histologic Subtype                641 non-null    object \n",
            " 74  Pre Sample Chemotherapy                       2422 non-null   object \n",
            " 75  Pre Sample Immunotherapy                      2422 non-null   object \n",
            " 76  Pre Sample Targeted                           2422 non-null   object \n",
            " 77  Pre Sample Tx                                 2422 non-null   object \n",
            " 78  Pre Sample XRT                                2422 non-null   object \n",
            " 79  Primary Tumor Site                            2422 non-null   object \n",
            " 80  Pathologic Stage                              799 non-null    object \n",
            " 81  Purity                                        2584 non-null   float64\n",
            " 82  Race Category                                 2554 non-null   object \n",
            " 83  RTK- RAS Pathway                              2422 non-null   object \n",
            " 84  Sample Class                                  2422 non-null   object \n",
            " 85  Number of Samples Per Patient                 2653 non-null   int64  \n",
            " 86  Sample coverage                               2422 non-null   float64\n",
            " 87  Sample Type                                   2653 non-null   object \n",
            " 88  Sex                                           2554 non-null   object \n",
            " 89  Somatic Status                                2653 non-null   object \n",
            " 90  TGF-Beta Pathway                              2422 non-null   object \n",
            " 91  TMB (nonsynonymous)                           2653 non-null   float64\n",
            " 92  TP53 Pathway                                  2422 non-null   object \n",
            " 93  WNT Pathway                                   2422 non-null   object \n",
            "dtypes: float64(26), int64(2), object(66)\n",
            "memory usage: 1.9+ MB\n",
            "None\n"
          ]
        }
      ]
    },
    {
      "cell_type": "code",
      "source": [
        "df.head()"
      ],
      "metadata": {
        "colab": {
          "base_uri": "https://localhost:8080/",
          "height": 533
        },
        "id": "v-tFwK_AZSMU",
        "outputId": "52d9dc55-77ba-4eff-ff5a-1dea9d8599d4"
      },
      "execution_count": 4,
      "outputs": [
        {
          "output_type": "execute_result",
          "data": {
            "text/plain": [
              "                            Study ID Patient ID          Sample ID Adjuvant  \\\n",
              "0  luad_mskcc_2023_met_organotropism  P-0000149  P-0000149-T01-IM3      NaN   \n",
              "1  luad_mskcc_2023_met_organotropism  P-0000163  P-0000163-T02-IM3      NaN   \n",
              "2  luad_mskcc_2023_met_organotropism  P-0000208  P-0000208-T01-WES      NaN   \n",
              "3  luad_mskcc_2023_met_organotropism  P-0000208  P-0000208-T02-WES      NaN   \n",
              "4  luad_mskcc_2023_met_organotropism  P-0000219  P-0000219-T01-IM3      Yes   \n",
              "\n",
              "  Adjuvant Chemotherapy Adjuvant Immunotherapy Adjuvant Targeted  \\\n",
              "0                   NaN                    NaN               NaN   \n",
              "1                   NaN                    NaN               NaN   \n",
              "2                   NaN                    NaN               NaN   \n",
              "3                   NaN                    NaN               NaN   \n",
              "4                   Yes                     No                No   \n",
              "\n",
              "  Adjuvant Therapy Adjuvant XRT  Adrenal Met Status (Months)  ...  \\\n",
              "0              NaN          NaN                          NaN  ...   \n",
              "1              NaN          NaN                          NaN  ...   \n",
              "2              NaN          NaN                          NaN  ...   \n",
              "3              NaN          NaN                          NaN  ...   \n",
              "4              Yes          Yes                          NaN  ...   \n",
              "\n",
              "  Sample Class  Number of Samples Per Patient  Sample coverage Sample Type  \\\n",
              "0        Tumor                              1            883.0  Metastasis   \n",
              "1        Tumor                              1            439.0  Metastasis   \n",
              "2          NaN                              2              NaN     Primary   \n",
              "3          NaN                              2              NaN  Metastasis   \n",
              "4        Tumor                              1           1033.0     Primary   \n",
              "\n",
              "      Sex Somatic Status TGF-Beta Pathway TMB (nonsynonymous)  TP53 Pathway  \\\n",
              "0  Female        Matched               No            9.982398            No   \n",
              "1  Female        Matched               No            3.327466           Yes   \n",
              "2     NaN        Matched              NaN            2.933333           NaN   \n",
              "3     NaN        Matched              NaN            1.600000           NaN   \n",
              "4  Female        Matched              Yes            4.436621            No   \n",
              "\n",
              "  WNT Pathway  \n",
              "0          No  \n",
              "1          No  \n",
              "2         NaN  \n",
              "3         NaN  \n",
              "4          No  \n",
              "\n",
              "[5 rows x 94 columns]"
            ],
            "text/html": [
              "\n",
              "  <div id=\"df-54ee064e-7e85-4861-b675-7d28e933104e\" class=\"colab-df-container\">\n",
              "    <div>\n",
              "<style scoped>\n",
              "    .dataframe tbody tr th:only-of-type {\n",
              "        vertical-align: middle;\n",
              "    }\n",
              "\n",
              "    .dataframe tbody tr th {\n",
              "        vertical-align: top;\n",
              "    }\n",
              "\n",
              "    .dataframe thead th {\n",
              "        text-align: right;\n",
              "    }\n",
              "</style>\n",
              "<table border=\"1\" class=\"dataframe\">\n",
              "  <thead>\n",
              "    <tr style=\"text-align: right;\">\n",
              "      <th></th>\n",
              "      <th>Study ID</th>\n",
              "      <th>Patient ID</th>\n",
              "      <th>Sample ID</th>\n",
              "      <th>Adjuvant</th>\n",
              "      <th>Adjuvant Chemotherapy</th>\n",
              "      <th>Adjuvant Immunotherapy</th>\n",
              "      <th>Adjuvant Targeted</th>\n",
              "      <th>Adjuvant Therapy</th>\n",
              "      <th>Adjuvant XRT</th>\n",
              "      <th>Adrenal Met Status (Months)</th>\n",
              "      <th>...</th>\n",
              "      <th>Sample Class</th>\n",
              "      <th>Number of Samples Per Patient</th>\n",
              "      <th>Sample coverage</th>\n",
              "      <th>Sample Type</th>\n",
              "      <th>Sex</th>\n",
              "      <th>Somatic Status</th>\n",
              "      <th>TGF-Beta Pathway</th>\n",
              "      <th>TMB (nonsynonymous)</th>\n",
              "      <th>TP53 Pathway</th>\n",
              "      <th>WNT Pathway</th>\n",
              "    </tr>\n",
              "  </thead>\n",
              "  <tbody>\n",
              "    <tr>\n",
              "      <th>0</th>\n",
              "      <td>luad_mskcc_2023_met_organotropism</td>\n",
              "      <td>P-0000149</td>\n",
              "      <td>P-0000149-T01-IM3</td>\n",
              "      <td>NaN</td>\n",
              "      <td>NaN</td>\n",
              "      <td>NaN</td>\n",
              "      <td>NaN</td>\n",
              "      <td>NaN</td>\n",
              "      <td>NaN</td>\n",
              "      <td>NaN</td>\n",
              "      <td>...</td>\n",
              "      <td>Tumor</td>\n",
              "      <td>1</td>\n",
              "      <td>883.0</td>\n",
              "      <td>Metastasis</td>\n",
              "      <td>Female</td>\n",
              "      <td>Matched</td>\n",
              "      <td>No</td>\n",
              "      <td>9.982398</td>\n",
              "      <td>No</td>\n",
              "      <td>No</td>\n",
              "    </tr>\n",
              "    <tr>\n",
              "      <th>1</th>\n",
              "      <td>luad_mskcc_2023_met_organotropism</td>\n",
              "      <td>P-0000163</td>\n",
              "      <td>P-0000163-T02-IM3</td>\n",
              "      <td>NaN</td>\n",
              "      <td>NaN</td>\n",
              "      <td>NaN</td>\n",
              "      <td>NaN</td>\n",
              "      <td>NaN</td>\n",
              "      <td>NaN</td>\n",
              "      <td>NaN</td>\n",
              "      <td>...</td>\n",
              "      <td>Tumor</td>\n",
              "      <td>1</td>\n",
              "      <td>439.0</td>\n",
              "      <td>Metastasis</td>\n",
              "      <td>Female</td>\n",
              "      <td>Matched</td>\n",
              "      <td>No</td>\n",
              "      <td>3.327466</td>\n",
              "      <td>Yes</td>\n",
              "      <td>No</td>\n",
              "    </tr>\n",
              "    <tr>\n",
              "      <th>2</th>\n",
              "      <td>luad_mskcc_2023_met_organotropism</td>\n",
              "      <td>P-0000208</td>\n",
              "      <td>P-0000208-T01-WES</td>\n",
              "      <td>NaN</td>\n",
              "      <td>NaN</td>\n",
              "      <td>NaN</td>\n",
              "      <td>NaN</td>\n",
              "      <td>NaN</td>\n",
              "      <td>NaN</td>\n",
              "      <td>NaN</td>\n",
              "      <td>...</td>\n",
              "      <td>NaN</td>\n",
              "      <td>2</td>\n",
              "      <td>NaN</td>\n",
              "      <td>Primary</td>\n",
              "      <td>NaN</td>\n",
              "      <td>Matched</td>\n",
              "      <td>NaN</td>\n",
              "      <td>2.933333</td>\n",
              "      <td>NaN</td>\n",
              "      <td>NaN</td>\n",
              "    </tr>\n",
              "    <tr>\n",
              "      <th>3</th>\n",
              "      <td>luad_mskcc_2023_met_organotropism</td>\n",
              "      <td>P-0000208</td>\n",
              "      <td>P-0000208-T02-WES</td>\n",
              "      <td>NaN</td>\n",
              "      <td>NaN</td>\n",
              "      <td>NaN</td>\n",
              "      <td>NaN</td>\n",
              "      <td>NaN</td>\n",
              "      <td>NaN</td>\n",
              "      <td>NaN</td>\n",
              "      <td>...</td>\n",
              "      <td>NaN</td>\n",
              "      <td>2</td>\n",
              "      <td>NaN</td>\n",
              "      <td>Metastasis</td>\n",
              "      <td>NaN</td>\n",
              "      <td>Matched</td>\n",
              "      <td>NaN</td>\n",
              "      <td>1.600000</td>\n",
              "      <td>NaN</td>\n",
              "      <td>NaN</td>\n",
              "    </tr>\n",
              "    <tr>\n",
              "      <th>4</th>\n",
              "      <td>luad_mskcc_2023_met_organotropism</td>\n",
              "      <td>P-0000219</td>\n",
              "      <td>P-0000219-T01-IM3</td>\n",
              "      <td>Yes</td>\n",
              "      <td>Yes</td>\n",
              "      <td>No</td>\n",
              "      <td>No</td>\n",
              "      <td>Yes</td>\n",
              "      <td>Yes</td>\n",
              "      <td>NaN</td>\n",
              "      <td>...</td>\n",
              "      <td>Tumor</td>\n",
              "      <td>1</td>\n",
              "      <td>1033.0</td>\n",
              "      <td>Primary</td>\n",
              "      <td>Female</td>\n",
              "      <td>Matched</td>\n",
              "      <td>Yes</td>\n",
              "      <td>4.436621</td>\n",
              "      <td>No</td>\n",
              "      <td>No</td>\n",
              "    </tr>\n",
              "  </tbody>\n",
              "</table>\n",
              "<p>5 rows × 94 columns</p>\n",
              "</div>\n",
              "    <div class=\"colab-df-buttons\">\n",
              "\n",
              "  <div class=\"colab-df-container\">\n",
              "    <button class=\"colab-df-convert\" onclick=\"convertToInteractive('df-54ee064e-7e85-4861-b675-7d28e933104e')\"\n",
              "            title=\"Convert this dataframe to an interactive table.\"\n",
              "            style=\"display:none;\">\n",
              "\n",
              "  <svg xmlns=\"http://www.w3.org/2000/svg\" height=\"24px\" viewBox=\"0 -960 960 960\">\n",
              "    <path d=\"M120-120v-720h720v720H120Zm60-500h600v-160H180v160Zm220 220h160v-160H400v160Zm0 220h160v-160H400v160ZM180-400h160v-160H180v160Zm440 0h160v-160H620v160ZM180-180h160v-160H180v160Zm440 0h160v-160H620v160Z\"/>\n",
              "  </svg>\n",
              "    </button>\n",
              "\n",
              "  <style>\n",
              "    .colab-df-container {\n",
              "      display:flex;\n",
              "      gap: 12px;\n",
              "    }\n",
              "\n",
              "    .colab-df-convert {\n",
              "      background-color: #E8F0FE;\n",
              "      border: none;\n",
              "      border-radius: 50%;\n",
              "      cursor: pointer;\n",
              "      display: none;\n",
              "      fill: #1967D2;\n",
              "      height: 32px;\n",
              "      padding: 0 0 0 0;\n",
              "      width: 32px;\n",
              "    }\n",
              "\n",
              "    .colab-df-convert:hover {\n",
              "      background-color: #E2EBFA;\n",
              "      box-shadow: 0px 1px 2px rgba(60, 64, 67, 0.3), 0px 1px 3px 1px rgba(60, 64, 67, 0.15);\n",
              "      fill: #174EA6;\n",
              "    }\n",
              "\n",
              "    .colab-df-buttons div {\n",
              "      margin-bottom: 4px;\n",
              "    }\n",
              "\n",
              "    [theme=dark] .colab-df-convert {\n",
              "      background-color: #3B4455;\n",
              "      fill: #D2E3FC;\n",
              "    }\n",
              "\n",
              "    [theme=dark] .colab-df-convert:hover {\n",
              "      background-color: #434B5C;\n",
              "      box-shadow: 0px 1px 3px 1px rgba(0, 0, 0, 0.15);\n",
              "      filter: drop-shadow(0px 1px 2px rgba(0, 0, 0, 0.3));\n",
              "      fill: #FFFFFF;\n",
              "    }\n",
              "  </style>\n",
              "\n",
              "    <script>\n",
              "      const buttonEl =\n",
              "        document.querySelector('#df-54ee064e-7e85-4861-b675-7d28e933104e button.colab-df-convert');\n",
              "      buttonEl.style.display =\n",
              "        google.colab.kernel.accessAllowed ? 'block' : 'none';\n",
              "\n",
              "      async function convertToInteractive(key) {\n",
              "        const element = document.querySelector('#df-54ee064e-7e85-4861-b675-7d28e933104e');\n",
              "        const dataTable =\n",
              "          await google.colab.kernel.invokeFunction('convertToInteractive',\n",
              "                                                    [key], {});\n",
              "        if (!dataTable) return;\n",
              "\n",
              "        const docLinkHtml = 'Like what you see? Visit the ' +\n",
              "          '<a target=\"_blank\" href=https://colab.research.google.com/notebooks/data_table.ipynb>data table notebook</a>'\n",
              "          + ' to learn more about interactive tables.';\n",
              "        element.innerHTML = '';\n",
              "        dataTable['output_type'] = 'display_data';\n",
              "        await google.colab.output.renderOutput(dataTable, element);\n",
              "        const docLink = document.createElement('div');\n",
              "        docLink.innerHTML = docLinkHtml;\n",
              "        element.appendChild(docLink);\n",
              "      }\n",
              "    </script>\n",
              "  </div>\n",
              "\n",
              "\n",
              "<div id=\"df-eadc1539-dc2a-42a3-a08b-f9788d69c849\">\n",
              "  <button class=\"colab-df-quickchart\" onclick=\"quickchart('df-eadc1539-dc2a-42a3-a08b-f9788d69c849')\"\n",
              "            title=\"Suggest charts\"\n",
              "            style=\"display:none;\">\n",
              "\n",
              "<svg xmlns=\"http://www.w3.org/2000/svg\" height=\"24px\"viewBox=\"0 0 24 24\"\n",
              "     width=\"24px\">\n",
              "    <g>\n",
              "        <path d=\"M19 3H5c-1.1 0-2 .9-2 2v14c0 1.1.9 2 2 2h14c1.1 0 2-.9 2-2V5c0-1.1-.9-2-2-2zM9 17H7v-7h2v7zm4 0h-2V7h2v10zm4 0h-2v-4h2v4z\"/>\n",
              "    </g>\n",
              "</svg>\n",
              "  </button>\n",
              "\n",
              "<style>\n",
              "  .colab-df-quickchart {\n",
              "      --bg-color: #E8F0FE;\n",
              "      --fill-color: #1967D2;\n",
              "      --hover-bg-color: #E2EBFA;\n",
              "      --hover-fill-color: #174EA6;\n",
              "      --disabled-fill-color: #AAA;\n",
              "      --disabled-bg-color: #DDD;\n",
              "  }\n",
              "\n",
              "  [theme=dark] .colab-df-quickchart {\n",
              "      --bg-color: #3B4455;\n",
              "      --fill-color: #D2E3FC;\n",
              "      --hover-bg-color: #434B5C;\n",
              "      --hover-fill-color: #FFFFFF;\n",
              "      --disabled-bg-color: #3B4455;\n",
              "      --disabled-fill-color: #666;\n",
              "  }\n",
              "\n",
              "  .colab-df-quickchart {\n",
              "    background-color: var(--bg-color);\n",
              "    border: none;\n",
              "    border-radius: 50%;\n",
              "    cursor: pointer;\n",
              "    display: none;\n",
              "    fill: var(--fill-color);\n",
              "    height: 32px;\n",
              "    padding: 0;\n",
              "    width: 32px;\n",
              "  }\n",
              "\n",
              "  .colab-df-quickchart:hover {\n",
              "    background-color: var(--hover-bg-color);\n",
              "    box-shadow: 0 1px 2px rgba(60, 64, 67, 0.3), 0 1px 3px 1px rgba(60, 64, 67, 0.15);\n",
              "    fill: var(--button-hover-fill-color);\n",
              "  }\n",
              "\n",
              "  .colab-df-quickchart-complete:disabled,\n",
              "  .colab-df-quickchart-complete:disabled:hover {\n",
              "    background-color: var(--disabled-bg-color);\n",
              "    fill: var(--disabled-fill-color);\n",
              "    box-shadow: none;\n",
              "  }\n",
              "\n",
              "  .colab-df-spinner {\n",
              "    border: 2px solid var(--fill-color);\n",
              "    border-color: transparent;\n",
              "    border-bottom-color: var(--fill-color);\n",
              "    animation:\n",
              "      spin 1s steps(1) infinite;\n",
              "  }\n",
              "\n",
              "  @keyframes spin {\n",
              "    0% {\n",
              "      border-color: transparent;\n",
              "      border-bottom-color: var(--fill-color);\n",
              "      border-left-color: var(--fill-color);\n",
              "    }\n",
              "    20% {\n",
              "      border-color: transparent;\n",
              "      border-left-color: var(--fill-color);\n",
              "      border-top-color: var(--fill-color);\n",
              "    }\n",
              "    30% {\n",
              "      border-color: transparent;\n",
              "      border-left-color: var(--fill-color);\n",
              "      border-top-color: var(--fill-color);\n",
              "      border-right-color: var(--fill-color);\n",
              "    }\n",
              "    40% {\n",
              "      border-color: transparent;\n",
              "      border-right-color: var(--fill-color);\n",
              "      border-top-color: var(--fill-color);\n",
              "    }\n",
              "    60% {\n",
              "      border-color: transparent;\n",
              "      border-right-color: var(--fill-color);\n",
              "    }\n",
              "    80% {\n",
              "      border-color: transparent;\n",
              "      border-right-color: var(--fill-color);\n",
              "      border-bottom-color: var(--fill-color);\n",
              "    }\n",
              "    90% {\n",
              "      border-color: transparent;\n",
              "      border-bottom-color: var(--fill-color);\n",
              "    }\n",
              "  }\n",
              "</style>\n",
              "\n",
              "  <script>\n",
              "    async function quickchart(key) {\n",
              "      const quickchartButtonEl =\n",
              "        document.querySelector('#' + key + ' button');\n",
              "      quickchartButtonEl.disabled = true;  // To prevent multiple clicks.\n",
              "      quickchartButtonEl.classList.add('colab-df-spinner');\n",
              "      try {\n",
              "        const charts = await google.colab.kernel.invokeFunction(\n",
              "            'suggestCharts', [key], {});\n",
              "      } catch (error) {\n",
              "        console.error('Error during call to suggestCharts:', error);\n",
              "      }\n",
              "      quickchartButtonEl.classList.remove('colab-df-spinner');\n",
              "      quickchartButtonEl.classList.add('colab-df-quickchart-complete');\n",
              "    }\n",
              "    (() => {\n",
              "      let quickchartButtonEl =\n",
              "        document.querySelector('#df-eadc1539-dc2a-42a3-a08b-f9788d69c849 button');\n",
              "      quickchartButtonEl.style.display =\n",
              "        google.colab.kernel.accessAllowed ? 'block' : 'none';\n",
              "    })();\n",
              "  </script>\n",
              "</div>\n",
              "\n",
              "    </div>\n",
              "  </div>\n"
            ],
            "application/vnd.google.colaboratory.intrinsic+json": {
              "type": "dataframe",
              "variable_name": "df"
            }
          },
          "metadata": {},
          "execution_count": 4
        }
      ]
    },
    {
      "cell_type": "code",
      "source": [
        "y = df['Overall Survival (Months)']"
      ],
      "metadata": {
        "id": "3AMM_UfROVpF"
      },
      "execution_count": 5,
      "outputs": []
    },
    {
      "cell_type": "code",
      "source": [
        "print(y)"
      ],
      "metadata": {
        "colab": {
          "base_uri": "https://localhost:8080/"
        },
        "id": "3iTw69a9Ze6C",
        "outputId": "0a8b5ed8-6e36-4cfe-e467-bf398c00af3e"
      },
      "execution_count": 7,
      "outputs": [
        {
          "output_type": "stream",
          "name": "stdout",
          "text": [
            "0             NaN\n",
            "1             NaN\n",
            "2             NaN\n",
            "3             NaN\n",
            "4       94.388007\n",
            "          ...    \n",
            "2648          NaN\n",
            "2649          NaN\n",
            "2650          NaN\n",
            "2651          NaN\n",
            "2652          NaN\n",
            "Name: Overall Survival (Months), Length: 2653, dtype: float64\n"
          ]
        }
      ]
    },
    {
      "cell_type": "code",
      "source": [
        "print(X)"
      ],
      "metadata": {
        "colab": {
          "base_uri": "https://localhost:8080/"
        },
        "id": "99uSVHWyvMCa",
        "outputId": "096faa5c-ecc1-491e-968a-849e93d3976b"
      },
      "execution_count": 12,
      "outputs": [
        {
          "output_type": "stream",
          "name": "stdout",
          "text": [
            "Empty DataFrame\n",
            "Columns: [Study ID, Patient ID, Sample ID, Adjuvant, Adjuvant Chemotherapy, Adjuvant Immunotherapy, Adjuvant Targeted, Adjuvant Therapy, Adjuvant XRT, Adrenal Met Status (Months), Adrenal Met Status, Age at Surgery/Biopsy, Bone Met Status (Months), Bone Met Status, Cancer Type, Cancer Type Detailed, Cell Cycle, Tobacco History, CNS Met Status (Months), CNS Met Status, Clinical Stage, Death, Ever Met to Site: Adrenal, Ever Met to Site: Bone, Ever Met to Site: CNS, Ever Met to Site: Liver, Ever Met to Site: Lymph Nodes, Ever Met to Site: Lung, Ever Met to Site: Pleura, FGA, Fraction Genome Altered, At Least 2 Years Follow Up, Gene Panel, Group Number, Had Surgery, HIPPO Pathway, Samples used in Metastatic Lesion (ML) group, Group Assignment for Primary Samples, Institute Source, Samples used in Matched Analysis (Group 5), Is WGD, Liver Met Status (Months), Liver Met Status, LN Met Status (Months), LN Met Status, Lung Met Status (Months), Lung Met Status, Metastatic Burden, Metastatic Site, Months from Matched Primary, MSI Score, MSI Type, Mutation Count, MYC Pathway, Neoadjuvant, Neoadjuvant Chemotherapy, Neoadjuvant Immunotherapy, Neoadjuvant Targeted, Neoadjuvant XRT, NOTCH Pathway, NRF2 Pathway, Oncotree Code, Overall Survival Status, PI3K Pathway, Pleura Met Status (Months), Pleura Met Status, Ploidy, Post Sample Chemotherapy, Post Sample Immunotherapy, Post Sample Targeted, Post Sample Tx, Post Sample XRT , Predominant Histologic Subtype, Pre Sample Chemotherapy, Pre Sample Immunotherapy, Pre Sample Targeted, Pre Sample Tx, Pre Sample XRT , Primary Tumor Site, Pathologic Stage, Purity, Race Category, RTK- RAS Pathway, Sample Class, Number of Samples Per Patient, Sample coverage, Sample Type, Sex, Somatic Status, TGF-Beta Pathway, TMB (nonsynonymous), TP53 Pathway, WNT Pathway]\n",
            "Index: []\n",
            "\n",
            "[0 rows x 93 columns]\n"
          ]
        }
      ]
    },
    {
      "cell_type": "code",
      "source": [
        "X = df.drop('Overall Survival (Months)', axis=1)"
      ],
      "metadata": {
        "id": "h2nC2IXZOp-n"
      },
      "execution_count": 9,
      "outputs": []
    },
    {
      "cell_type": "code",
      "source": [
        "X.dropna(inplace=True)"
      ],
      "metadata": {
        "id": "y4YtL5WRM9NY"
      },
      "execution_count": 11,
      "outputs": []
    },
    {
      "cell_type": "code",
      "source": [
        "X.fillna(0, inplace=True)"
      ],
      "metadata": {
        "id": "nWeEE-e2M9Q4"
      },
      "execution_count": 13,
      "outputs": []
    },
    {
      "cell_type": "code",
      "source": [
        "print(X.shape)"
      ],
      "metadata": {
        "colab": {
          "base_uri": "https://localhost:8080/"
        },
        "id": "a2uyw2YKM9XT",
        "outputId": "02776ef3-ef7e-4f12-fdb7-ca5fd458c525"
      },
      "execution_count": 14,
      "outputs": [
        {
          "output_type": "stream",
          "name": "stdout",
          "text": [
            "(0, 93)\n"
          ]
        }
      ]
    },
    {
      "cell_type": "code",
      "source": [
        "print(y.shape)"
      ],
      "metadata": {
        "colab": {
          "base_uri": "https://localhost:8080/"
        },
        "id": "zvo6HhxoYqd5",
        "outputId": "8f1da0b0-9044-4d73-d4ae-305d25fe6a4a"
      },
      "execution_count": 15,
      "outputs": [
        {
          "output_type": "stream",
          "name": "stdout",
          "text": [
            "(2653,)\n"
          ]
        }
      ]
    },
    {
      "cell_type": "code",
      "source": [
        "X.fillna(0, inplace=True)"
      ],
      "metadata": {
        "id": "14re84Y9XqTV"
      },
      "execution_count": 16,
      "outputs": []
    },
    {
      "cell_type": "code",
      "source": [
        "from sklearn.feature_selection import SelectKBest, f_classif\n",
        "selector = SelectKBest(f_classif, k=10)\n",
        "X_selected = selector.fit_transform(X, y)\n",
        "X_selected = pd.DataFrame(X_selected, columns=X.columns[selector.get_support()])"
      ],
      "metadata": {
        "colab": {
          "base_uri": "https://localhost:8080/",
          "height": 356
        },
        "id": "4J4gYYyYXqVe",
        "outputId": "78ed58bb-e2a6-488e-a316-33a9eae54c1c"
      },
      "execution_count": null,
      "outputs": [
        {
          "output_type": "error",
          "ename": "ValueError",
          "evalue": "Found array with 0 sample(s) (shape=(0, 93)) while a minimum of 1 is required by SelectKBest.",
          "traceback": [
            "\u001b[0;31m---------------------------------------------------------------------------\u001b[0m",
            "\u001b[0;31mValueError\u001b[0m                                Traceback (most recent call last)",
            "\u001b[0;32m<ipython-input-19-a6a014e64c4d>\u001b[0m in \u001b[0;36m<cell line: 3>\u001b[0;34m()\u001b[0m\n\u001b[1;32m      1\u001b[0m \u001b[0;32mfrom\u001b[0m \u001b[0msklearn\u001b[0m\u001b[0;34m.\u001b[0m\u001b[0mfeature_selection\u001b[0m \u001b[0;32mimport\u001b[0m \u001b[0mSelectKBest\u001b[0m\u001b[0;34m,\u001b[0m \u001b[0mf_classif\u001b[0m\u001b[0;34m\u001b[0m\u001b[0;34m\u001b[0m\u001b[0m\n\u001b[1;32m      2\u001b[0m \u001b[0mselector\u001b[0m \u001b[0;34m=\u001b[0m \u001b[0mSelectKBest\u001b[0m\u001b[0;34m(\u001b[0m\u001b[0mf_classif\u001b[0m\u001b[0;34m,\u001b[0m \u001b[0mk\u001b[0m\u001b[0;34m=\u001b[0m\u001b[0;36m10\u001b[0m\u001b[0;34m)\u001b[0m\u001b[0;34m\u001b[0m\u001b[0;34m\u001b[0m\u001b[0m\n\u001b[0;32m----> 3\u001b[0;31m \u001b[0mX_selected\u001b[0m \u001b[0;34m=\u001b[0m \u001b[0mselector\u001b[0m\u001b[0;34m.\u001b[0m\u001b[0mfit_transform\u001b[0m\u001b[0;34m(\u001b[0m\u001b[0mX\u001b[0m\u001b[0;34m,\u001b[0m \u001b[0my\u001b[0m\u001b[0;34m)\u001b[0m\u001b[0;34m\u001b[0m\u001b[0;34m\u001b[0m\u001b[0m\n\u001b[0m\u001b[1;32m      4\u001b[0m \u001b[0mX_selected\u001b[0m \u001b[0;34m=\u001b[0m \u001b[0mpd\u001b[0m\u001b[0;34m.\u001b[0m\u001b[0mDataFrame\u001b[0m\u001b[0;34m(\u001b[0m\u001b[0mX_selected\u001b[0m\u001b[0;34m,\u001b[0m \u001b[0mcolumns\u001b[0m\u001b[0;34m=\u001b[0m\u001b[0mX\u001b[0m\u001b[0;34m.\u001b[0m\u001b[0mcolumns\u001b[0m\u001b[0;34m[\u001b[0m\u001b[0mselector\u001b[0m\u001b[0;34m.\u001b[0m\u001b[0mget_support\u001b[0m\u001b[0;34m(\u001b[0m\u001b[0;34m)\u001b[0m\u001b[0;34m]\u001b[0m\u001b[0;34m)\u001b[0m\u001b[0;34m\u001b[0m\u001b[0;34m\u001b[0m\u001b[0m\n",
            "\u001b[0;32m/usr/local/lib/python3.10/dist-packages/sklearn/utils/_set_output.py\u001b[0m in \u001b[0;36mwrapped\u001b[0;34m(self, X, *args, **kwargs)\u001b[0m\n\u001b[1;32m    138\u001b[0m     \u001b[0;34m@\u001b[0m\u001b[0mwraps\u001b[0m\u001b[0;34m(\u001b[0m\u001b[0mf\u001b[0m\u001b[0;34m)\u001b[0m\u001b[0;34m\u001b[0m\u001b[0;34m\u001b[0m\u001b[0m\n\u001b[1;32m    139\u001b[0m     \u001b[0;32mdef\u001b[0m \u001b[0mwrapped\u001b[0m\u001b[0;34m(\u001b[0m\u001b[0mself\u001b[0m\u001b[0;34m,\u001b[0m \u001b[0mX\u001b[0m\u001b[0;34m,\u001b[0m \u001b[0;34m*\u001b[0m\u001b[0margs\u001b[0m\u001b[0;34m,\u001b[0m \u001b[0;34m**\u001b[0m\u001b[0mkwargs\u001b[0m\u001b[0;34m)\u001b[0m\u001b[0;34m:\u001b[0m\u001b[0;34m\u001b[0m\u001b[0;34m\u001b[0m\u001b[0m\n\u001b[0;32m--> 140\u001b[0;31m         \u001b[0mdata_to_wrap\u001b[0m \u001b[0;34m=\u001b[0m \u001b[0mf\u001b[0m\u001b[0;34m(\u001b[0m\u001b[0mself\u001b[0m\u001b[0;34m,\u001b[0m \u001b[0mX\u001b[0m\u001b[0;34m,\u001b[0m \u001b[0;34m*\u001b[0m\u001b[0margs\u001b[0m\u001b[0;34m,\u001b[0m \u001b[0;34m**\u001b[0m\u001b[0mkwargs\u001b[0m\u001b[0;34m)\u001b[0m\u001b[0;34m\u001b[0m\u001b[0;34m\u001b[0m\u001b[0m\n\u001b[0m\u001b[1;32m    141\u001b[0m         \u001b[0;32mif\u001b[0m \u001b[0misinstance\u001b[0m\u001b[0;34m(\u001b[0m\u001b[0mdata_to_wrap\u001b[0m\u001b[0;34m,\u001b[0m \u001b[0mtuple\u001b[0m\u001b[0;34m)\u001b[0m\u001b[0;34m:\u001b[0m\u001b[0;34m\u001b[0m\u001b[0;34m\u001b[0m\u001b[0m\n\u001b[1;32m    142\u001b[0m             \u001b[0;31m# only wrap the first output for cross decomposition\u001b[0m\u001b[0;34m\u001b[0m\u001b[0;34m\u001b[0m\u001b[0m\n",
            "\u001b[0;32m/usr/local/lib/python3.10/dist-packages/sklearn/base.py\u001b[0m in \u001b[0;36mfit_transform\u001b[0;34m(self, X, y, **fit_params)\u001b[0m\n\u001b[1;32m    879\u001b[0m         \u001b[0;32melse\u001b[0m\u001b[0;34m:\u001b[0m\u001b[0;34m\u001b[0m\u001b[0;34m\u001b[0m\u001b[0m\n\u001b[1;32m    880\u001b[0m             \u001b[0;31m# fit method of arity 2 (supervised transformation)\u001b[0m\u001b[0;34m\u001b[0m\u001b[0;34m\u001b[0m\u001b[0m\n\u001b[0;32m--> 881\u001b[0;31m             \u001b[0;32mreturn\u001b[0m \u001b[0mself\u001b[0m\u001b[0;34m.\u001b[0m\u001b[0mfit\u001b[0m\u001b[0;34m(\u001b[0m\u001b[0mX\u001b[0m\u001b[0;34m,\u001b[0m \u001b[0my\u001b[0m\u001b[0;34m,\u001b[0m \u001b[0;34m**\u001b[0m\u001b[0mfit_params\u001b[0m\u001b[0;34m)\u001b[0m\u001b[0;34m.\u001b[0m\u001b[0mtransform\u001b[0m\u001b[0;34m(\u001b[0m\u001b[0mX\u001b[0m\u001b[0;34m)\u001b[0m\u001b[0;34m\u001b[0m\u001b[0;34m\u001b[0m\u001b[0m\n\u001b[0m\u001b[1;32m    882\u001b[0m \u001b[0;34m\u001b[0m\u001b[0m\n\u001b[1;32m    883\u001b[0m \u001b[0;34m\u001b[0m\u001b[0m\n",
            "\u001b[0;32m/usr/local/lib/python3.10/dist-packages/sklearn/feature_selection/_univariate_selection.py\u001b[0m in \u001b[0;36mfit\u001b[0;34m(self, X, y)\u001b[0m\n\u001b[1;32m    465\u001b[0m         \u001b[0mself\u001b[0m\u001b[0;34m.\u001b[0m\u001b[0m_validate_params\u001b[0m\u001b[0;34m(\u001b[0m\u001b[0;34m)\u001b[0m\u001b[0;34m\u001b[0m\u001b[0;34m\u001b[0m\u001b[0m\n\u001b[1;32m    466\u001b[0m \u001b[0;34m\u001b[0m\u001b[0m\n\u001b[0;32m--> 467\u001b[0;31m         X, y = self._validate_data(\n\u001b[0m\u001b[1;32m    468\u001b[0m             \u001b[0mX\u001b[0m\u001b[0;34m,\u001b[0m \u001b[0my\u001b[0m\u001b[0;34m,\u001b[0m \u001b[0maccept_sparse\u001b[0m\u001b[0;34m=\u001b[0m\u001b[0;34m[\u001b[0m\u001b[0;34m\"csr\"\u001b[0m\u001b[0;34m,\u001b[0m \u001b[0;34m\"csc\"\u001b[0m\u001b[0;34m]\u001b[0m\u001b[0;34m,\u001b[0m \u001b[0mmulti_output\u001b[0m\u001b[0;34m=\u001b[0m\u001b[0;32mTrue\u001b[0m\u001b[0;34m\u001b[0m\u001b[0;34m\u001b[0m\u001b[0m\n\u001b[1;32m    469\u001b[0m         )\n",
            "\u001b[0;32m/usr/local/lib/python3.10/dist-packages/sklearn/base.py\u001b[0m in \u001b[0;36m_validate_data\u001b[0;34m(self, X, y, reset, validate_separately, **check_params)\u001b[0m\n\u001b[1;32m    582\u001b[0m                 \u001b[0my\u001b[0m \u001b[0;34m=\u001b[0m \u001b[0mcheck_array\u001b[0m\u001b[0;34m(\u001b[0m\u001b[0my\u001b[0m\u001b[0;34m,\u001b[0m \u001b[0minput_name\u001b[0m\u001b[0;34m=\u001b[0m\u001b[0;34m\"y\"\u001b[0m\u001b[0;34m,\u001b[0m \u001b[0;34m**\u001b[0m\u001b[0mcheck_y_params\u001b[0m\u001b[0;34m)\u001b[0m\u001b[0;34m\u001b[0m\u001b[0;34m\u001b[0m\u001b[0m\n\u001b[1;32m    583\u001b[0m             \u001b[0;32melse\u001b[0m\u001b[0;34m:\u001b[0m\u001b[0;34m\u001b[0m\u001b[0;34m\u001b[0m\u001b[0m\n\u001b[0;32m--> 584\u001b[0;31m                 \u001b[0mX\u001b[0m\u001b[0;34m,\u001b[0m \u001b[0my\u001b[0m \u001b[0;34m=\u001b[0m \u001b[0mcheck_X_y\u001b[0m\u001b[0;34m(\u001b[0m\u001b[0mX\u001b[0m\u001b[0;34m,\u001b[0m \u001b[0my\u001b[0m\u001b[0;34m,\u001b[0m \u001b[0;34m**\u001b[0m\u001b[0mcheck_params\u001b[0m\u001b[0;34m)\u001b[0m\u001b[0;34m\u001b[0m\u001b[0;34m\u001b[0m\u001b[0m\n\u001b[0m\u001b[1;32m    585\u001b[0m             \u001b[0mout\u001b[0m \u001b[0;34m=\u001b[0m \u001b[0mX\u001b[0m\u001b[0;34m,\u001b[0m \u001b[0my\u001b[0m\u001b[0;34m\u001b[0m\u001b[0;34m\u001b[0m\u001b[0m\n\u001b[1;32m    586\u001b[0m \u001b[0;34m\u001b[0m\u001b[0m\n",
            "\u001b[0;32m/usr/local/lib/python3.10/dist-packages/sklearn/utils/validation.py\u001b[0m in \u001b[0;36mcheck_X_y\u001b[0;34m(X, y, accept_sparse, accept_large_sparse, dtype, order, copy, force_all_finite, ensure_2d, allow_nd, multi_output, ensure_min_samples, ensure_min_features, y_numeric, estimator)\u001b[0m\n\u001b[1;32m   1104\u001b[0m         )\n\u001b[1;32m   1105\u001b[0m \u001b[0;34m\u001b[0m\u001b[0m\n\u001b[0;32m-> 1106\u001b[0;31m     X = check_array(\n\u001b[0m\u001b[1;32m   1107\u001b[0m         \u001b[0mX\u001b[0m\u001b[0;34m,\u001b[0m\u001b[0;34m\u001b[0m\u001b[0;34m\u001b[0m\u001b[0m\n\u001b[1;32m   1108\u001b[0m         \u001b[0maccept_sparse\u001b[0m\u001b[0;34m=\u001b[0m\u001b[0maccept_sparse\u001b[0m\u001b[0;34m,\u001b[0m\u001b[0;34m\u001b[0m\u001b[0;34m\u001b[0m\u001b[0m\n",
            "\u001b[0;32m/usr/local/lib/python3.10/dist-packages/sklearn/utils/validation.py\u001b[0m in \u001b[0;36mcheck_array\u001b[0;34m(array, accept_sparse, accept_large_sparse, dtype, order, copy, force_all_finite, ensure_2d, allow_nd, ensure_min_samples, ensure_min_features, estimator, input_name)\u001b[0m\n\u001b[1;32m    929\u001b[0m         \u001b[0mn_samples\u001b[0m \u001b[0;34m=\u001b[0m \u001b[0m_num_samples\u001b[0m\u001b[0;34m(\u001b[0m\u001b[0marray\u001b[0m\u001b[0;34m)\u001b[0m\u001b[0;34m\u001b[0m\u001b[0;34m\u001b[0m\u001b[0m\n\u001b[1;32m    930\u001b[0m         \u001b[0;32mif\u001b[0m \u001b[0mn_samples\u001b[0m \u001b[0;34m<\u001b[0m \u001b[0mensure_min_samples\u001b[0m\u001b[0;34m:\u001b[0m\u001b[0;34m\u001b[0m\u001b[0;34m\u001b[0m\u001b[0m\n\u001b[0;32m--> 931\u001b[0;31m             raise ValueError(\n\u001b[0m\u001b[1;32m    932\u001b[0m                 \u001b[0;34m\"Found array with %d sample(s) (shape=%s) while a\"\u001b[0m\u001b[0;34m\u001b[0m\u001b[0;34m\u001b[0m\u001b[0m\n\u001b[1;32m    933\u001b[0m                 \u001b[0;34m\" minimum of %d is required%s.\"\u001b[0m\u001b[0;34m\u001b[0m\u001b[0;34m\u001b[0m\u001b[0m\n",
            "\u001b[0;31mValueError\u001b[0m: Found array with 0 sample(s) (shape=(0, 93)) while a minimum of 1 is required by SelectKBest."
          ]
        }
      ]
    },
    {
      "cell_type": "code",
      "source": [],
      "metadata": {
        "id": "FrG7XmN9XqaF"
      },
      "execution_count": null,
      "outputs": []
    },
    {
      "cell_type": "code",
      "source": [],
      "metadata": {
        "id": "V_Xdecy0XqdZ"
      },
      "execution_count": null,
      "outputs": []
    },
    {
      "cell_type": "code",
      "source": [],
      "metadata": {
        "id": "3KcmjvHQM9ax"
      },
      "execution_count": null,
      "outputs": []
    }
  ]
}